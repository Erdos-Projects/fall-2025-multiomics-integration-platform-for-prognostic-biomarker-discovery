{
 "cells": [
  {
   "cell_type": "code",
   "execution_count": null,
   "id": "53ebf55b",
   "metadata": {},
   "outputs": [],
   "source": [
    "import pandas as pd\n",
    "import numpy as np\n",
    "import missingno as msno\n",
    "import matplotlib.pyplot as plt\n",
    "import seaborn as sns"
   ]
  },
  {
   "cell_type": "code",
   "execution_count": null,
   "id": "03830ff4",
   "metadata": {},
   "outputs": [],
   "source": [
    "filePath = '../data/TCGA2021/data_mrna_seq_v2_rsem.txt'\n",
    "filePath2 = '../data/TCGA2021/data_rppa.txt'"
   ]
  },
  {
   "cell_type": "code",
   "execution_count": null,
   "id": "27c60c10",
   "metadata": {},
   "outputs": [],
   "source": [
    "df = pd.read_csv(filePath, sep = '\\t')\n",
    "df.head()\n",
    "print(df.shape)"
   ]
  },
  {
   "cell_type": "code",
   "execution_count": null,
   "id": "fa2ae6e7",
   "metadata": {},
   "outputs": [],
   "source": [
    "df2 = pd.read_csv(filePath2, sep = '\\t')\n",
    "df2.head()\n",
    "print(df2.shape)"
   ]
  },
  {
   "cell_type": "code",
   "execution_count": null,
   "id": "eb275fd3",
   "metadata": {},
   "outputs": [],
   "source": [
    "df2.head()"
   ]
  },
  {
   "cell_type": "code",
   "execution_count": null,
   "id": "5f2922e6",
   "metadata": {},
   "outputs": [],
   "source": [
    "df.set_index('Entrez_Gene_Id', inplace=True)\n",
    "df.drop('Hugo_Symbol', axis=1, inplace=True)\n",
    "df.columns.name = 'Sample ID'\n",
    "df.head()"
   ]
  },
  {
   "cell_type": "code",
   "execution_count": null,
   "id": "dd63601f",
   "metadata": {},
   "outputs": [],
   "source": [
    "intersection = set(df.columns).intersection(set(df2.columns))\n",
    "print(set(df.columns).intersection(set(df2.columns)))\n",
    "print(f'There are {df.shape[1]} samples in the RNA dataset and {df2.shape[1]} samples in the RPPA dataset. The overlap is size {len(intersection)}')"
   ]
  },
  {
   "cell_type": "code",
   "execution_count": null,
   "id": "47f3d0c5",
   "metadata": {},
   "outputs": [],
   "source": [
    "df = df.transpose()\n",
    "nRows, nCols = df.shape\n",
    "print('Rows:', nRows, 'Columns:', nCols)\n",
    "mem = df.memory_usage(deep=True).sum() / (1024**2)\n",
    "print(f'Memory MB: {mem:.2f}')\n",
    "display(df.head())"
   ]
  },
  {
   "cell_type": "code",
   "execution_count": null,
   "id": "8824c51a",
   "metadata": {},
   "outputs": [],
   "source": [
    "df.dtypes"
   ]
  },
  {
   "cell_type": "code",
   "execution_count": null,
   "id": "9f21defc",
   "metadata": {},
   "outputs": [],
   "source": [
    "sampleSize = 25\n",
    "randomColumnSample = np.random.choice(nCols, sampleSize, replace=False)\n",
    "\n",
    "subDf = df.iloc[:,randomColumnSample]\n",
    "\n",
    "subDf.describe()"
   ]
  },
  {
   "cell_type": "code",
   "execution_count": null,
   "id": "e892d625",
   "metadata": {},
   "outputs": [],
   "source": [
    "subDf.info()"
   ]
  },
  {
   "cell_type": "markdown",
   "id": "5d22fb04",
   "metadata": {},
   "source": [
    "No numbers appear to be missing..."
   ]
  },
  {
   "cell_type": "code",
   "execution_count": null,
   "id": "d31e7558",
   "metadata": {},
   "outputs": [],
   "source": [
    "constantCols = df.columns[df.var(axis=0) < 1e-10]\n",
    "numConstantCols = len(constantCols)\n",
    "print(f'There are {numConstantCols} columns (out of {nCols} total, so {round(numConstantCols/nCols*100, 2)}%) that have constant value; they will be dropped.')"
   ]
  },
  {
   "cell_type": "code",
   "execution_count": null,
   "id": "fde49a79",
   "metadata": {},
   "outputs": [],
   "source": [
    "df = df.drop(columns = constantCols)\n",
    "nCols = df.shape[1]\n",
    "print(f'There are {nCols} columns left')"
   ]
  },
  {
   "cell_type": "code",
   "execution_count": null,
   "id": "7f9c95ae",
   "metadata": {},
   "outputs": [],
   "source": [
    "variances = df.var(axis=0)\n",
    "nTopGenes = 100\n",
    "mostVariantGenes=variances.nlargest(nTopGenes).index\n",
    "print(f'The most \"informative\" genes were {mostVariantGenes[:5]}')"
   ]
  },
  {
   "cell_type": "code",
   "execution_count": null,
   "id": "738938e8",
   "metadata": {},
   "outputs": [],
   "source": [
    "from sklearn.preprocessing import StandardScaler\n",
    "\n",
    "std_scaler = StandardScaler()\n",
    "df_scaled = pd.DataFrame(std_scaler.fit_transform(df), index=df.index, columns=df.columns)\n",
    "\n",
    "subDf_scaled = df_scaled.loc[:,mostVariantGenes]\n",
    "\n",
    "subDf_scaled.describe()"
   ]
  },
  {
   "cell_type": "code",
   "execution_count": null,
   "id": "5e7bf6e8",
   "metadata": {},
   "outputs": [],
   "source": [
    "plt.figure(figsize=(nTopGenes, 50))\n",
    "cmap = 'vlag'\n",
    "sns.heatmap(subDf_scaled, cmap=cmap)\n",
    "\n",
    "plt.show()"
   ]
  },
  {
   "cell_type": "code",
   "execution_count": null,
   "id": "00ef73e9",
   "metadata": {},
   "outputs": [],
   "source": [
    "\n",
    "cmap = 'vlag'\n",
    "sns.clustermap(subDf_scaled, cmap=cmap)\n",
    "\n",
    "plt.show()"
   ]
  },
  {
   "cell_type": "code",
   "execution_count": null,
   "id": "20bdc5d4",
   "metadata": {},
   "outputs": [],
   "source": [
    "from sklearn.decomposition import PCA\n",
    "\n",
    "PCA2D = PCA(n_components=2)\n",
    "X = PCA2D.fit_transform(df_scaled)\n",
    "X = pd.DataFrame(X, index=df.index, columns = ['PCA1', 'PCA2'])\n",
    "\n",
    "plt.scatter(X.iloc[:, 0], X.iloc[:, 1])   \n",
    "plt.xlabel(X.columns[0])\n",
    "plt.ylabel(X.columns[1])\n",
    "plt.show()"
   ]
  },
  {
   "cell_type": "code",
   "execution_count": null,
   "id": "1d6da509",
   "metadata": {},
   "outputs": [],
   "source": [
    "PCA2D.explained_variance_ratio_"
   ]
  },
  {
   "cell_type": "code",
   "execution_count": null,
   "id": "d8952537",
   "metadata": {},
   "outputs": [],
   "source": [
    "from scipy.cluster.hierarchy import linkage, dendrogram, fcluster"
   ]
  },
  {
   "cell_type": "code",
   "execution_count": null,
   "id": "a0ecee2c",
   "metadata": {},
   "outputs": [],
   "source": [
    "PCA = PCA(n_components=0.95)\n",
    "X = pd.DataFrame(PCA.fit_transform(df_scaled), index=df_scaled.index)\n",
    "\n",
    "PCA.n_components_"
   ]
  },
  {
   "cell_type": "code",
   "execution_count": null,
   "id": "818d4eae",
   "metadata": {},
   "outputs": [],
   "source": [
    "sampleHierarchy = linkage(X, method='ward')\n",
    "\n",
    "plt.figure(figsize=(15, 4))\n",
    "dendrogram(sampleHierarchy)\n",
    "plt.show()"
   ]
  },
  {
   "cell_type": "code",
   "execution_count": null,
   "id": "e85d03d5",
   "metadata": {},
   "outputs": [],
   "source": [
    "from scipy.spatial.distance import pdist, squareform\n",
    "\n",
    "from scipy.cluster.hierarchy import leaves_list\n",
    "\n",
    "D = squareform(pdist(X, metric='euclidean'))  # or another metric\n",
    "sampleOrder = leaves_list(sampleHierarchy)\n",
    "D_reordered = D[np.ix_(sampleOrder, sampleOrder)]\n",
    "\n",
    "plt.figure(figsize=(15,15))\n",
    "\n",
    "plt.imshow(D_reordered, cmap='viridis')\n",
    "plt.title('Distance Heatmap (Clustered Order)')\n",
    "plt.colorbar()\n",
    "\n",
    "plt.show()"
   ]
  },
  {
   "cell_type": "code",
   "execution_count": null,
   "id": "864826aa",
   "metadata": {},
   "outputs": [],
   "source": [
    "geneDF = df_scaled.transpose()\n",
    "print(geneDF.shape)\n",
    "geneDF.head()"
   ]
  },
  {
   "cell_type": "code",
   "execution_count": null,
   "id": "d9801374",
   "metadata": {},
   "outputs": [],
   "source": [
    "topGeneDF = geneDF.loc[mostVariantGenes,:]\n",
    "topGeneDF.shape"
   ]
  },
  {
   "cell_type": "code",
   "execution_count": null,
   "id": "d2af342f",
   "metadata": {},
   "outputs": [],
   "source": [
    "geneHierarchy = linkage(topGeneDF, method='ward')\n",
    "\n",
    "plt.figure(figsize=(15, 4))\n",
    "dendrogram(geneHierarchy)\n",
    "plt.show()"
   ]
  },
  {
   "cell_type": "code",
   "execution_count": null,
   "id": "b9326fbf",
   "metadata": {},
   "outputs": [],
   "source": [
    "geneOrder = leaves_list(geneHierarchy)\n",
    "smallDF = topGeneDF.transpose()\n",
    "print(smallDF.shape)\n"
   ]
  },
  {
   "cell_type": "code",
   "execution_count": null,
   "id": "98d8c9f4",
   "metadata": {},
   "outputs": [],
   "source": [
    "geneOrder[:5]"
   ]
  },
  {
   "cell_type": "code",
   "execution_count": null,
   "id": "8f2daff2",
   "metadata": {},
   "outputs": [],
   "source": [
    "max(geneOrder)"
   ]
  },
  {
   "cell_type": "code",
   "execution_count": null,
   "id": "41115117",
   "metadata": {},
   "outputs": [],
   "source": [
    "smallDF_reordered = smallDF.iloc[sampleOrder, geneOrder]\n",
    "\n",
    "plt.figure(figsize=(20,10))\n",
    "\n",
    "plt.imshow(smallDF_reordered, cmap='viridis')\n",
    "plt.xlabel('Genes')\n",
    "plt.ylabel('Samples')\n",
    "plt.colorbar()\n",
    "\n",
    "plt.show()\n",
    "plt.show()"
   ]
  },
  {
   "cell_type": "code",
   "execution_count": null,
   "id": "44b004e5",
   "metadata": {},
   "outputs": [],
   "source": [
    "sns.clustermap(\n",
    "    smallDF,\n",
    "    metric='euclidean', method='ward',\n",
    "    cmap='bwr',\n",
    "    figsize=(8, 8)\n",
    ")"
   ]
  }
 ],
 "metadata": {
  "kernelspec": {
   "display_name": "erdos_ds_environment",
   "language": "python",
   "name": "python3"
  },
  "language_info": {
   "codemirror_mode": {
    "name": "ipython",
    "version": 3
   },
   "file_extension": ".py",
   "mimetype": "text/x-python",
   "name": "python",
   "nbconvert_exporter": "python",
   "pygments_lexer": "ipython3",
   "version": "3.12.11"
  }
 },
 "nbformat": 4,
 "nbformat_minor": 5
}
